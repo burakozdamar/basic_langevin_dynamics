{
 "cells": [
  {
   "cell_type": "code",
   "execution_count": 1,
   "id": "8162bac1-a395-4466-bcfc-b53608ef9707",
   "metadata": {},
   "outputs": [],
   "source": [
    "import numpy as np"
   ]
  },
  {
   "cell_type": "code",
   "execution_count": 15,
   "id": "95079cb5-39cc-4767-b7b2-af166571bdfa",
   "metadata": {},
   "outputs": [],
   "source": [
    "with open(\"/Users/smol/brites-tmp/WL-SAM-length/OTS8_1step.xyz\") as f:\n",
    "    n_atoms = int(f.readline())\n",
    "    comment = f.readline()\n",
    "    coords_and_pos = f.readlines()"
   ]
  },
  {
   "cell_type": "code",
   "execution_count": 16,
   "id": "6464964e-bb75-4c52-8a72-3020f3756959",
   "metadata": {},
   "outputs": [],
   "source": [
    "coords_and_pos = [line.split() for line in coords_and_pos]"
   ]
  },
  {
   "cell_type": "code",
   "execution_count": 17,
   "id": "119cbbb1-9e59-403d-81eb-c440a0dfed6a",
   "metadata": {},
   "outputs": [],
   "source": [
    "coords_and_pos = np.array(coords_and_pos)"
   ]
  },
  {
   "cell_type": "code",
   "execution_count": 18,
   "id": "960f731f-73cb-4c00-b2d3-4e336a3404ab",
   "metadata": {},
   "outputs": [],
   "source": [
    "atomtypes, coordinates = coords_and_pos[:,0], coords_and_pos[:, 1:].astype(np.float32)"
   ]
  },
  {
   "cell_type": "code",
   "execution_count": 19,
   "id": "89ed690f-fde8-4a45-ba23-8f671461c39c",
   "metadata": {},
   "outputs": [
    {
     "data": {
      "text/plain": [
       "array([[-20.311827  ,   5.0974894 ,   3.825391  ],\n",
       "       [-21.102022  ,   5.416007  ,   4.4316134 ],\n",
       "       [-19.773518  ,   5.894671  ,   3.4951704 ],\n",
       "       ...,\n",
       "       [  4.576202  ,   1.3382415 , -23.444408  ],\n",
       "       [  1.7246845 ,  -0.53633183, -22.54367   ],\n",
       "       [  1.9831283 ,  -1.4605207 , -22.76387   ]], dtype=float32)"
      ]
     },
     "execution_count": 19,
     "metadata": {},
     "output_type": "execute_result"
    }
   ],
   "source": [
    "coordinates"
   ]
  },
  {
   "cell_type": "code",
   "execution_count": null,
   "id": "f199483a-b8ce-4fa8-a29e-a0cd588200a0",
   "metadata": {},
   "outputs": [],
   "source": []
  },
  {
   "cell_type": "code",
   "execution_count": 5,
   "id": "8c618711-bdef-4a06-bdeb-248f9859eb5e",
   "metadata": {},
   "outputs": [
    {
     "data": {
      "text/plain": [
       "(1036,)"
      ]
     },
     "execution_count": 5,
     "metadata": {},
     "output_type": "execute_result"
    }
   ],
   "source": [
    "coords_and_pos.shape"
   ]
  },
  {
   "cell_type": "code",
   "execution_count": null,
   "id": "d5e3b01f-82c7-4a17-87a3-5cc3f69d0848",
   "metadata": {},
   "outputs": [],
   "source": []
  }
 ],
 "metadata": {
  "kernelspec": {
   "display_name": "Python 3",
   "language": "python",
   "name": "python3"
  },
  "language_info": {
   "codemirror_mode": {
    "name": "ipython",
    "version": 3
   },
   "file_extension": ".py",
   "mimetype": "text/x-python",
   "name": "python",
   "nbconvert_exporter": "python",
   "pygments_lexer": "ipython3",
   "version": "3.9.1"
  }
 },
 "nbformat": 4,
 "nbformat_minor": 5
}
